{
  "nbformat": 4,
  "nbformat_minor": 0,
  "metadata": {
    "colab": {
      "provenance": []
    },
    "kernelspec": {
      "name": "python3",
      "display_name": "Python 3"
    },
    "language_info": {
      "name": "python"
    }
  },
  "cells": [
    {
      "cell_type": "code",
      "execution_count": 28,
      "metadata": {
        "id": "3R7JWnlQgaVH"
      },
      "outputs": [],
      "source": [
        "import pandas as pd\n"
      ]
    },
    {
      "cell_type": "code",
      "source": [
        "# Reading the TSV file\n",
        "chipotle_df = pd.read_csv('chipotle.tsv', sep='\\t')\n",
        "chipotle_df.head()"
      ],
      "metadata": {
        "colab": {
          "base_uri": "https://localhost:8080/",
          "height": 258
        },
        "id": "9J2HSq0-lVg1",
        "outputId": "d8998ebd-fadb-4d12-fc3c-e18787c04dd9"
      },
      "execution_count": 29,
      "outputs": [
        {
          "output_type": "execute_result",
          "data": {
            "text/plain": [
              "   order_id  quantity                              item_name  \\\n",
              "0         1         1           Chips and Fresh Tomato Salsa   \n",
              "1         1         1                                   Izze   \n",
              "2         1         1                       Nantucket Nectar   \n",
              "3         1         1  Chips and Tomatillo-Green Chili Salsa   \n",
              "4         2         2                           Chicken Bowl   \n",
              "\n",
              "                                  choice_description item_price  \n",
              "0                                                NaN     $2.39   \n",
              "1                                       [Clementine]     $3.39   \n",
              "2                                            [Apple]     $3.39   \n",
              "3                                                NaN     $2.39   \n",
              "4  [Tomatillo-Red Chili Salsa (Hot), [Black Beans...    $16.98   "
            ],
            "text/html": [
              "\n",
              "  <div id=\"df-2a0c1a4e-1a19-4500-b79c-95b72ce66f32\" class=\"colab-df-container\">\n",
              "    <div>\n",
              "<style scoped>\n",
              "    .dataframe tbody tr th:only-of-type {\n",
              "        vertical-align: middle;\n",
              "    }\n",
              "\n",
              "    .dataframe tbody tr th {\n",
              "        vertical-align: top;\n",
              "    }\n",
              "\n",
              "    .dataframe thead th {\n",
              "        text-align: right;\n",
              "    }\n",
              "</style>\n",
              "<table border=\"1\" class=\"dataframe\">\n",
              "  <thead>\n",
              "    <tr style=\"text-align: right;\">\n",
              "      <th></th>\n",
              "      <th>order_id</th>\n",
              "      <th>quantity</th>\n",
              "      <th>item_name</th>\n",
              "      <th>choice_description</th>\n",
              "      <th>item_price</th>\n",
              "    </tr>\n",
              "  </thead>\n",
              "  <tbody>\n",
              "    <tr>\n",
              "      <th>0</th>\n",
              "      <td>1</td>\n",
              "      <td>1</td>\n",
              "      <td>Chips and Fresh Tomato Salsa</td>\n",
              "      <td>NaN</td>\n",
              "      <td>$2.39</td>\n",
              "    </tr>\n",
              "    <tr>\n",
              "      <th>1</th>\n",
              "      <td>1</td>\n",
              "      <td>1</td>\n",
              "      <td>Izze</td>\n",
              "      <td>[Clementine]</td>\n",
              "      <td>$3.39</td>\n",
              "    </tr>\n",
              "    <tr>\n",
              "      <th>2</th>\n",
              "      <td>1</td>\n",
              "      <td>1</td>\n",
              "      <td>Nantucket Nectar</td>\n",
              "      <td>[Apple]</td>\n",
              "      <td>$3.39</td>\n",
              "    </tr>\n",
              "    <tr>\n",
              "      <th>3</th>\n",
              "      <td>1</td>\n",
              "      <td>1</td>\n",
              "      <td>Chips and Tomatillo-Green Chili Salsa</td>\n",
              "      <td>NaN</td>\n",
              "      <td>$2.39</td>\n",
              "    </tr>\n",
              "    <tr>\n",
              "      <th>4</th>\n",
              "      <td>2</td>\n",
              "      <td>2</td>\n",
              "      <td>Chicken Bowl</td>\n",
              "      <td>[Tomatillo-Red Chili Salsa (Hot), [Black Beans...</td>\n",
              "      <td>$16.98</td>\n",
              "    </tr>\n",
              "  </tbody>\n",
              "</table>\n",
              "</div>\n",
              "    <div class=\"colab-df-buttons\">\n",
              "\n",
              "  <div class=\"colab-df-container\">\n",
              "    <button class=\"colab-df-convert\" onclick=\"convertToInteractive('df-2a0c1a4e-1a19-4500-b79c-95b72ce66f32')\"\n",
              "            title=\"Convert this dataframe to an interactive table.\"\n",
              "            style=\"display:none;\">\n",
              "\n",
              "  <svg xmlns=\"http://www.w3.org/2000/svg\" height=\"24px\" viewBox=\"0 -960 960 960\">\n",
              "    <path d=\"M120-120v-720h720v720H120Zm60-500h600v-160H180v160Zm220 220h160v-160H400v160Zm0 220h160v-160H400v160ZM180-400h160v-160H180v160Zm440 0h160v-160H620v160ZM180-180h160v-160H180v160Zm440 0h160v-160H620v160Z\"/>\n",
              "  </svg>\n",
              "    </button>\n",
              "\n",
              "  <style>\n",
              "    .colab-df-container {\n",
              "      display:flex;\n",
              "      gap: 12px;\n",
              "    }\n",
              "\n",
              "    .colab-df-convert {\n",
              "      background-color: #E8F0FE;\n",
              "      border: none;\n",
              "      border-radius: 50%;\n",
              "      cursor: pointer;\n",
              "      display: none;\n",
              "      fill: #1967D2;\n",
              "      height: 32px;\n",
              "      padding: 0 0 0 0;\n",
              "      width: 32px;\n",
              "    }\n",
              "\n",
              "    .colab-df-convert:hover {\n",
              "      background-color: #E2EBFA;\n",
              "      box-shadow: 0px 1px 2px rgba(60, 64, 67, 0.3), 0px 1px 3px 1px rgba(60, 64, 67, 0.15);\n",
              "      fill: #174EA6;\n",
              "    }\n",
              "\n",
              "    .colab-df-buttons div {\n",
              "      margin-bottom: 4px;\n",
              "    }\n",
              "\n",
              "    [theme=dark] .colab-df-convert {\n",
              "      background-color: #3B4455;\n",
              "      fill: #D2E3FC;\n",
              "    }\n",
              "\n",
              "    [theme=dark] .colab-df-convert:hover {\n",
              "      background-color: #434B5C;\n",
              "      box-shadow: 0px 1px 3px 1px rgba(0, 0, 0, 0.15);\n",
              "      filter: drop-shadow(0px 1px 2px rgba(0, 0, 0, 0.3));\n",
              "      fill: #FFFFFF;\n",
              "    }\n",
              "  </style>\n",
              "\n",
              "    <script>\n",
              "      const buttonEl =\n",
              "        document.querySelector('#df-2a0c1a4e-1a19-4500-b79c-95b72ce66f32 button.colab-df-convert');\n",
              "      buttonEl.style.display =\n",
              "        google.colab.kernel.accessAllowed ? 'block' : 'none';\n",
              "\n",
              "      async function convertToInteractive(key) {\n",
              "        const element = document.querySelector('#df-2a0c1a4e-1a19-4500-b79c-95b72ce66f32');\n",
              "        const dataTable =\n",
              "          await google.colab.kernel.invokeFunction('convertToInteractive',\n",
              "                                                    [key], {});\n",
              "        if (!dataTable) return;\n",
              "\n",
              "        const docLinkHtml = 'Like what you see? Visit the ' +\n",
              "          '<a target=\"_blank\" href=https://colab.research.google.com/notebooks/data_table.ipynb>data table notebook</a>'\n",
              "          + ' to learn more about interactive tables.';\n",
              "        element.innerHTML = '';\n",
              "        dataTable['output_type'] = 'display_data';\n",
              "        await google.colab.output.renderOutput(dataTable, element);\n",
              "        const docLink = document.createElement('div');\n",
              "        docLink.innerHTML = docLinkHtml;\n",
              "        element.appendChild(docLink);\n",
              "      }\n",
              "    </script>\n",
              "  </div>\n",
              "\n",
              "\n",
              "<div id=\"df-726bc775-80f5-4707-9f23-8c0505e96882\">\n",
              "  <button class=\"colab-df-quickchart\" onclick=\"quickchart('df-726bc775-80f5-4707-9f23-8c0505e96882')\"\n",
              "            title=\"Suggest charts\"\n",
              "            style=\"display:none;\">\n",
              "\n",
              "<svg xmlns=\"http://www.w3.org/2000/svg\" height=\"24px\"viewBox=\"0 0 24 24\"\n",
              "     width=\"24px\">\n",
              "    <g>\n",
              "        <path d=\"M19 3H5c-1.1 0-2 .9-2 2v14c0 1.1.9 2 2 2h14c1.1 0 2-.9 2-2V5c0-1.1-.9-2-2-2zM9 17H7v-7h2v7zm4 0h-2V7h2v10zm4 0h-2v-4h2v4z\"/>\n",
              "    </g>\n",
              "</svg>\n",
              "  </button>\n",
              "\n",
              "<style>\n",
              "  .colab-df-quickchart {\n",
              "      --bg-color: #E8F0FE;\n",
              "      --fill-color: #1967D2;\n",
              "      --hover-bg-color: #E2EBFA;\n",
              "      --hover-fill-color: #174EA6;\n",
              "      --disabled-fill-color: #AAA;\n",
              "      --disabled-bg-color: #DDD;\n",
              "  }\n",
              "\n",
              "  [theme=dark] .colab-df-quickchart {\n",
              "      --bg-color: #3B4455;\n",
              "      --fill-color: #D2E3FC;\n",
              "      --hover-bg-color: #434B5C;\n",
              "      --hover-fill-color: #FFFFFF;\n",
              "      --disabled-bg-color: #3B4455;\n",
              "      --disabled-fill-color: #666;\n",
              "  }\n",
              "\n",
              "  .colab-df-quickchart {\n",
              "    background-color: var(--bg-color);\n",
              "    border: none;\n",
              "    border-radius: 50%;\n",
              "    cursor: pointer;\n",
              "    display: none;\n",
              "    fill: var(--fill-color);\n",
              "    height: 32px;\n",
              "    padding: 0;\n",
              "    width: 32px;\n",
              "  }\n",
              "\n",
              "  .colab-df-quickchart:hover {\n",
              "    background-color: var(--hover-bg-color);\n",
              "    box-shadow: 0 1px 2px rgba(60, 64, 67, 0.3), 0 1px 3px 1px rgba(60, 64, 67, 0.15);\n",
              "    fill: var(--button-hover-fill-color);\n",
              "  }\n",
              "\n",
              "  .colab-df-quickchart-complete:disabled,\n",
              "  .colab-df-quickchart-complete:disabled:hover {\n",
              "    background-color: var(--disabled-bg-color);\n",
              "    fill: var(--disabled-fill-color);\n",
              "    box-shadow: none;\n",
              "  }\n",
              "\n",
              "  .colab-df-spinner {\n",
              "    border: 2px solid var(--fill-color);\n",
              "    border-color: transparent;\n",
              "    border-bottom-color: var(--fill-color);\n",
              "    animation:\n",
              "      spin 1s steps(1) infinite;\n",
              "  }\n",
              "\n",
              "  @keyframes spin {\n",
              "    0% {\n",
              "      border-color: transparent;\n",
              "      border-bottom-color: var(--fill-color);\n",
              "      border-left-color: var(--fill-color);\n",
              "    }\n",
              "    20% {\n",
              "      border-color: transparent;\n",
              "      border-left-color: var(--fill-color);\n",
              "      border-top-color: var(--fill-color);\n",
              "    }\n",
              "    30% {\n",
              "      border-color: transparent;\n",
              "      border-left-color: var(--fill-color);\n",
              "      border-top-color: var(--fill-color);\n",
              "      border-right-color: var(--fill-color);\n",
              "    }\n",
              "    40% {\n",
              "      border-color: transparent;\n",
              "      border-right-color: var(--fill-color);\n",
              "      border-top-color: var(--fill-color);\n",
              "    }\n",
              "    60% {\n",
              "      border-color: transparent;\n",
              "      border-right-color: var(--fill-color);\n",
              "    }\n",
              "    80% {\n",
              "      border-color: transparent;\n",
              "      border-right-color: var(--fill-color);\n",
              "      border-bottom-color: var(--fill-color);\n",
              "    }\n",
              "    90% {\n",
              "      border-color: transparent;\n",
              "      border-bottom-color: var(--fill-color);\n",
              "    }\n",
              "  }\n",
              "</style>\n",
              "\n",
              "  <script>\n",
              "    async function quickchart(key) {\n",
              "      const quickchartButtonEl =\n",
              "        document.querySelector('#' + key + ' button');\n",
              "      quickchartButtonEl.disabled = true;  // To prevent multiple clicks.\n",
              "      quickchartButtonEl.classList.add('colab-df-spinner');\n",
              "      try {\n",
              "        const charts = await google.colab.kernel.invokeFunction(\n",
              "            'suggestCharts', [key], {});\n",
              "      } catch (error) {\n",
              "        console.error('Error during call to suggestCharts:', error);\n",
              "      }\n",
              "      quickchartButtonEl.classList.remove('colab-df-spinner');\n",
              "      quickchartButtonEl.classList.add('colab-df-quickchart-complete');\n",
              "    }\n",
              "    (() => {\n",
              "      let quickchartButtonEl =\n",
              "        document.querySelector('#df-726bc775-80f5-4707-9f23-8c0505e96882 button');\n",
              "      quickchartButtonEl.style.display =\n",
              "        google.colab.kernel.accessAllowed ? 'block' : 'none';\n",
              "    })();\n",
              "  </script>\n",
              "</div>\n",
              "\n",
              "    </div>\n",
              "  </div>\n"
            ],
            "application/vnd.google.colaboratory.intrinsic+json": {
              "type": "dataframe",
              "variable_name": "chipotle_df",
              "summary": "{\n  \"name\": \"chipotle_df\",\n  \"rows\": 4622,\n  \"fields\": [\n    {\n      \"column\": \"order_id\",\n      \"properties\": {\n        \"dtype\": \"number\",\n        \"std\": 528,\n        \"min\": 1,\n        \"max\": 1834,\n        \"num_unique_values\": 1834,\n        \"samples\": [\n          644,\n          333,\n          991\n        ],\n        \"semantic_type\": \"\",\n        \"description\": \"\"\n      }\n    },\n    {\n      \"column\": \"quantity\",\n      \"properties\": {\n        \"dtype\": \"number\",\n        \"std\": 0,\n        \"min\": 1,\n        \"max\": 15,\n        \"num_unique_values\": 9,\n        \"samples\": [\n          8,\n          2,\n          15\n        ],\n        \"semantic_type\": \"\",\n        \"description\": \"\"\n      }\n    },\n    {\n      \"column\": \"item_name\",\n      \"properties\": {\n        \"dtype\": \"category\",\n        \"num_unique_values\": 50,\n        \"samples\": [\n          \"Barbacoa Burrito\",\n          \"Crispy Tacos\",\n          \"Chips and Roasted Chili Corn Salsa\"\n        ],\n        \"semantic_type\": \"\",\n        \"description\": \"\"\n      }\n    },\n    {\n      \"column\": \"choice_description\",\n      \"properties\": {\n        \"dtype\": \"category\",\n        \"num_unique_values\": 1043,\n        \"samples\": [\n          \"[Roasted Chili Corn Salsa, [Black Beans, Sour Cream, Cheese, Guacamole]]\",\n          \"[Tomatillo Red Chili Salsa, [Guacamole, Cheese]]\",\n          \"[Fresh Tomato Salsa, [Rice, Cheese, Sour Cream, Guacamole, Lettuce]]\"\n        ],\n        \"semantic_type\": \"\",\n        \"description\": \"\"\n      }\n    },\n    {\n      \"column\": \"item_price\",\n      \"properties\": {\n        \"dtype\": \"category\",\n        \"num_unique_values\": 78,\n        \"samples\": [\n          \"$23.50 \",\n          \"$2.39 \",\n          \"$7.40 \"\n        ],\n        \"semantic_type\": \"\",\n        \"description\": \"\"\n      }\n    }\n  ]\n}"
            }
          },
          "metadata": {},
          "execution_count": 29
        }
      ]
    },
    {
      "cell_type": "code",
      "source": [
        "# Quantity of each item\n",
        "item_quantity = chipotle_df.groupby('item_name')['quantity'].sum()\n",
        "item_quantity\n"
      ],
      "metadata": {
        "colab": {
          "base_uri": "https://localhost:8080/"
        },
        "id": "baHmKDO_htMZ",
        "outputId": "8aca9e19-6975-4498-c95d-fdcbba0c61c3"
      },
      "execution_count": 2,
      "outputs": [
        {
          "output_type": "execute_result",
          "data": {
            "text/plain": [
              "item_name\n",
              "6 Pack Soft Drink                         55\n",
              "Barbacoa Bowl                             66\n",
              "Barbacoa Burrito                          91\n",
              "Barbacoa Crispy Tacos                     12\n",
              "Barbacoa Salad Bowl                       10\n",
              "Barbacoa Soft Tacos                       25\n",
              "Bottled Water                            211\n",
              "Bowl                                       4\n",
              "Burrito                                    6\n",
              "Canned Soda                              126\n",
              "Canned Soft Drink                        351\n",
              "Carnitas Bowl                             71\n",
              "Carnitas Burrito                          60\n",
              "Carnitas Crispy Tacos                      8\n",
              "Carnitas Salad                             1\n",
              "Carnitas Salad Bowl                        6\n",
              "Carnitas Soft Tacos                       40\n",
              "Chicken Bowl                             761\n",
              "Chicken Burrito                          591\n",
              "Chicken Crispy Tacos                      50\n",
              "Chicken Salad                              9\n",
              "Chicken Salad Bowl                       123\n",
              "Chicken Soft Tacos                       120\n",
              "Chips                                    230\n",
              "Chips and Fresh Tomato Salsa             130\n",
              "Chips and Guacamole                      506\n",
              "Chips and Mild Fresh Tomato Salsa          1\n",
              "Chips and Roasted Chili Corn Salsa        23\n",
              "Chips and Roasted Chili-Corn Salsa        18\n",
              "Chips and Tomatillo Green Chili Salsa     45\n",
              "Chips and Tomatillo Red Chili Salsa       50\n",
              "Chips and Tomatillo-Green Chili Salsa     33\n",
              "Chips and Tomatillo-Red Chili Salsa       25\n",
              "Crispy Tacos                               2\n",
              "Izze                                      20\n",
              "Nantucket Nectar                          29\n",
              "Salad                                      2\n",
              "Side of Chips                            110\n",
              "Steak Bowl                               221\n",
              "Steak Burrito                            386\n",
              "Steak Crispy Tacos                        36\n",
              "Steak Salad                                4\n",
              "Steak Salad Bowl                          31\n",
              "Steak Soft Tacos                          56\n",
              "Veggie Bowl                               87\n",
              "Veggie Burrito                            97\n",
              "Veggie Crispy Tacos                        1\n",
              "Veggie Salad                               6\n",
              "Veggie Salad Bowl                         18\n",
              "Veggie Soft Tacos                          8\n",
              "Name: quantity, dtype: int64"
            ]
          },
          "metadata": {},
          "execution_count": 2
        }
      ]
    },
    {
      "cell_type": "code",
      "source": [
        "# Most ordered item in the choice_description column\n",
        "most_ordered_choice_description = chipotle_df['choice_description'].value_counts().idxmax()\n",
        "most_ordered_choice_description\n"
      ],
      "metadata": {
        "colab": {
          "base_uri": "https://localhost:8080/",
          "height": 35
        },
        "id": "ZnQhggw3htJK",
        "outputId": "514e36ec-a13f-400a-a751-d09dec4836f2"
      },
      "execution_count": 3,
      "outputs": [
        {
          "output_type": "execute_result",
          "data": {
            "text/plain": [
              "'[Diet Coke]'"
            ],
            "application/vnd.google.colaboratory.intrinsic+json": {
              "type": "string"
            }
          },
          "metadata": {},
          "execution_count": 3
        }
      ]
    },
    {
      "cell_type": "code",
      "source": [
        "# Total items ordered\n",
        "total_items_ordered = chipotle_df['quantity'].sum()\n",
        "total_items_ordered\n"
      ],
      "metadata": {
        "colab": {
          "base_uri": "https://localhost:8080/"
        },
        "id": "8H2PtKSjhtF1",
        "outputId": "733be4ec-0028-4f81-bed9-d8376af047ba"
      },
      "execution_count": 4,
      "outputs": [
        {
          "output_type": "execute_result",
          "data": {
            "text/plain": [
              "4972"
            ]
          },
          "metadata": {},
          "execution_count": 4
        }
      ]
    },
    {
      "cell_type": "code",
      "source": [
        "# Converting item price to float and calculating revenue\n",
        "chipotle_df['item_price'] = chipotle_df['item_price'].str.replace('$', '').astype(float)\n",
        "revenue = (chipotle_df['quantity'] * chipotle_df['item_price']).sum()\n",
        "revenue\n"
      ],
      "metadata": {
        "colab": {
          "base_uri": "https://localhost:8080/"
        },
        "id": "mJ2yKNEbhtCX",
        "outputId": "8def93ab-bb50-46f7-a7aa-8690718dd37e"
      },
      "execution_count": 5,
      "outputs": [
        {
          "output_type": "execute_result",
          "data": {
            "text/plain": [
              "39237.02"
            ]
          },
          "metadata": {},
          "execution_count": 5
        }
      ]
    },
    {
      "cell_type": "code",
      "source": [
        "# Total orders made\n",
        "total_orders = chipotle_df['order_id'].nunique()\n",
        "total_orders\n"
      ],
      "metadata": {
        "colab": {
          "base_uri": "https://localhost:8080/"
        },
        "id": "-z_gOw3shs--",
        "outputId": "c88ad985-a8f0-43ae-d2e1-df257ad8517b"
      },
      "execution_count": 6,
      "outputs": [
        {
          "output_type": "execute_result",
          "data": {
            "text/plain": [
              "1834"
            ]
          },
          "metadata": {},
          "execution_count": 6
        }
      ]
    },
    {
      "cell_type": "code",
      "source": [
        "# Average revenue amount per order\n",
        "avg_revenue_per_order = revenue / total_orders\n",
        "avg_revenue_per_order\n"
      ],
      "metadata": {
        "colab": {
          "base_uri": "https://localhost:8080/"
        },
        "id": "iA5MDhk6hs7e",
        "outputId": "a1e45b12-26e8-420f-db28-52485723271f"
      },
      "execution_count": 7,
      "outputs": [
        {
          "output_type": "execute_result",
          "data": {
            "text/plain": [
              "21.39423118865867"
            ]
          },
          "metadata": {},
          "execution_count": 7
        }
      ]
    },
    {
      "cell_type": "code",
      "source": [
        "# Different items sold\n",
        "different_items_sold = chipotle_df['item_name'].nunique()\n",
        "different_items_sold\n"
      ],
      "metadata": {
        "colab": {
          "base_uri": "https://localhost:8080/"
        },
        "id": "NJ2fGivfhs3Z",
        "outputId": "531b3051-572c-4d34-ce00-8d9c4d88304c"
      },
      "execution_count": 8,
      "outputs": [
        {
          "output_type": "execute_result",
          "data": {
            "text/plain": [
              "50"
            ]
          },
          "metadata": {},
          "execution_count": 8
        }
      ]
    },
    {
      "cell_type": "code",
      "source": [
        "# Checking for missing values\n",
        "missing_values = chipotle_df.isnull().sum()\n",
        "missing_values\n"
      ],
      "metadata": {
        "colab": {
          "base_uri": "https://localhost:8080/"
        },
        "id": "UOnr0pFChszG",
        "outputId": "5afafe20-8f85-40cf-abd3-56a4f15a17a4"
      },
      "execution_count": 9,
      "outputs": [
        {
          "output_type": "execute_result",
          "data": {
            "text/plain": [
              "order_id                 0\n",
              "quantity                 0\n",
              "item_name                0\n",
              "choice_description    1246\n",
              "item_price               0\n",
              "dtype: int64"
            ]
          },
          "metadata": {},
          "execution_count": 9
        }
      ]
    },
    {
      "cell_type": "code",
      "source": [
        "# Verifying data types\n",
        "data_types = chipotle_df.dtypes\n",
        "data_types\n"
      ],
      "metadata": {
        "colab": {
          "base_uri": "https://localhost:8080/"
        },
        "id": "fnqKnELNhsv4",
        "outputId": "1f470bf5-7528-401a-8e1d-9d382dfe0c5d"
      },
      "execution_count": 10,
      "outputs": [
        {
          "output_type": "execute_result",
          "data": {
            "text/plain": [
              "order_id                int64\n",
              "quantity                int64\n",
              "item_name              object\n",
              "choice_description     object\n",
              "item_price            float64\n",
              "dtype: object"
            ]
          },
          "metadata": {},
          "execution_count": 10
        }
      ]
    },
    {
      "cell_type": "code",
      "source": [
        "# Identifying duplicated entries\n",
        "duplicated_entries = chipotle_df.duplicated().sum()\n",
        "chipotle_df = chipotle_df.drop_duplicates()\n",
        "duplicated_entries_after = chipotle_df.duplicated().sum()\n"
      ],
      "metadata": {
        "id": "j2Lda6IJieT4"
      },
      "execution_count": 11,
      "outputs": []
    },
    {
      "cell_type": "code",
      "source": [
        "# Checking for inconsistencies in Quantity and Item Price\n",
        "inconsistent_quantities = chipotle_df['quantity'].value_counts()\n",
        "inconsistent_prices = chipotle_df['item_price'].describe()\n"
      ],
      "metadata": {
        "id": "Bpkuorx7ieQo"
      },
      "execution_count": 13,
      "outputs": []
    },
    {
      "cell_type": "code",
      "source": [
        "# Analyzing the Choice Description column\n",
        "choice_description_analysis = chipotle_df['choice_description'].value_counts()\n"
      ],
      "metadata": {
        "id": "AfSpNPWvieNe"
      },
      "execution_count": 14,
      "outputs": []
    },
    {
      "cell_type": "code",
      "source": [
        "# Checking for special characters in text-based columns\n",
        "special_characters_item_name = chipotle_df['item_name'].apply(lambda x: any(not c.isalnum() and c != ' ' for c in x))\n",
        "special_characters_choice_description = chipotle_df['choice_description'].apply(lambda x: any(not c.isalnum() and c != ' ' for c in str(x)))\n"
      ],
      "metadata": {
        "id": "BqKwFr4-ieGf"
      },
      "execution_count": 15,
      "outputs": []
    },
    {
      "cell_type": "code",
      "source": [
        "# Checking the integrity of Order ID\n",
        "order_id_integrity = chipotle_df['order_id'].is_unique\n"
      ],
      "metadata": {
        "id": "iuuLNzCfieDA"
      },
      "execution_count": 16,
      "outputs": []
    },
    {
      "cell_type": "code",
      "source": [
        "# Standardizing the Item Name column\n",
        "chipotle_df['item_name'] = chipotle_df['item_name'].str.lower().str.strip()\n"
      ],
      "metadata": {
        "id": "Lgkdqs1Rid_u"
      },
      "execution_count": 17,
      "outputs": []
    },
    {
      "cell_type": "code",
      "source": [
        "# Investigating relationships between Quantity and Item Price\n",
        "quantity_price_relationship = chipotle_df[['quantity', 'item_price']].corr()\n"
      ],
      "metadata": {
        "id": "SzqzJNsFid5u"
      },
      "execution_count": 18,
      "outputs": []
    },
    {
      "cell_type": "code",
      "source": [
        "# Ensuring data integrity\n",
        "data_integrity_check = chipotle_df.apply(lambda row: pd.notnull(row['quantity']) and pd.notnull(row['item_price']), axis=1).all()\n"
      ],
      "metadata": {
        "id": "8uYVnZsfjBir"
      },
      "execution_count": 19,
      "outputs": []
    },
    {
      "cell_type": "code",
      "source": [
        "# Converting to CSV if needed\n",
        "chipotle_df.to_csv('cleaned_chipotle.csv', index=False)\n"
      ],
      "metadata": {
        "id": "3VySFwgxjBfo"
      },
      "execution_count": 20,
      "outputs": []
    },
    {
      "cell_type": "code",
      "source": [
        "# Encoding categorical data\n",
        "chipotle_df_encoded = pd.get_dummies(chipotle_df, columns=['item_name', 'choice_description'])\n"
      ],
      "metadata": {
        "id": "hyPZVhhIjBcC"
      },
      "execution_count": 21,
      "outputs": []
    },
    {
      "cell_type": "code",
      "source": [
        "# Ensuring consistency in units for Quantity and Item Price\n",
        "chipotle_df['item_price'] = chipotle_df['item_price'].astype(float)\n",
        "chipotle_df['quantity'] = chipotle_df['quantity'].astype(int)\n"
      ],
      "metadata": {
        "id": "p8DtN2t3jBVY"
      },
      "execution_count": 22,
      "outputs": []
    },
    {
      "cell_type": "code",
      "source": [
        "# Displaying the cleaned data\n",
        "print(chipotle_df.head())"
      ],
      "metadata": {
        "colab": {
          "base_uri": "https://localhost:8080/"
        },
        "id": "A0dr_Cdpj33D",
        "outputId": "812fa13e-4aa8-40f5-991d-a178cc6ca46f"
      },
      "execution_count": 23,
      "outputs": [
        {
          "output_type": "stream",
          "name": "stdout",
          "text": [
            "   order_id  quantity                              item_name  \\\n",
            "0         1         1           chips and fresh tomato salsa   \n",
            "1         1         1                                   izze   \n",
            "2         1         1                       nantucket nectar   \n",
            "3         1         1  chips and tomatillo-green chili salsa   \n",
            "4         2         2                           chicken bowl   \n",
            "\n",
            "                                  choice_description  item_price  \n",
            "0                                                NaN        2.39  \n",
            "1                                       [Clementine]        3.39  \n",
            "2                                            [Apple]        3.39  \n",
            "3                                                NaN        2.39  \n",
            "4  [Tomatillo-Red Chili Salsa (Hot), [Black Beans...       16.98  \n"
          ]
        }
      ]
    },
    {
      "cell_type": "markdown",
      "source": [
        "## Additional Analyses"
      ],
      "metadata": {
        "id": "nZD-AcFMkDh0"
      }
    },
    {
      "cell_type": "markdown",
      "source": [
        "### Top 10 Most Ordered Items"
      ],
      "metadata": {
        "id": "1SA7-5tmkQAR"
      }
    },
    {
      "cell_type": "code",
      "source": [
        "top_10_items = chipotle_df.groupby('item_name')['quantity'].sum().sort_values(ascending=False).head(10)\n",
        "print(top_10_items)\n"
      ],
      "metadata": {
        "colab": {
          "base_uri": "https://localhost:8080/"
        },
        "id": "AA9vHScSj3za",
        "outputId": "d460606e-55f2-434a-dbd6-cb6411cbf651"
      },
      "execution_count": 24,
      "outputs": [
        {
          "output_type": "stream",
          "name": "stdout",
          "text": [
            "item_name\n",
            "chicken bowl                    752\n",
            "chicken burrito                 584\n",
            "chips and guacamole             501\n",
            "steak burrito                   383\n",
            "canned soft drink               340\n",
            "chips                           227\n",
            "steak bowl                      220\n",
            "bottled water                   204\n",
            "chips and fresh tomato salsa    130\n",
            "canned soda                     124\n",
            "Name: quantity, dtype: int64\n"
          ]
        }
      ]
    },
    {
      "cell_type": "markdown",
      "source": [
        "### Revenue by Item"
      ],
      "metadata": {
        "id": "UgfLKLVhkczg"
      }
    },
    {
      "cell_type": "code",
      "source": [
        "revenue_by_item = chipotle_df.groupby('item_name').apply(lambda x: (x['quantity'] * x['item_price']).sum()).sort_values(ascending=False)\n",
        "print(revenue_by_item)\n"
      ],
      "metadata": {
        "colab": {
          "base_uri": "https://localhost:8080/"
        },
        "id": "WV09C54vj3wn",
        "outputId": "3a6e9fcd-3284-4d26-9518-b6b9e696dcc9"
      },
      "execution_count": 25,
      "outputs": [
        {
          "output_type": "stream",
          "name": "stdout",
          "text": [
            "item_name\n",
            "chicken bowl                             7961.65\n",
            "chicken burrito                          6320.81\n",
            "steak burrito                            4203.64\n",
            "steak bowl                               2470.56\n",
            "chips and guacamole                      2453.37\n",
            "chicken salad bowl                       1506.25\n",
            "chicken soft tacos                       1161.77\n",
            "chips and fresh tomato salsa             1033.96\n",
            "veggie burrito                           1002.27\n",
            "veggie bowl                               901.95\n",
            "barbacoa burrito                          885.50\n",
            "carnitas bowl                             830.71\n",
            "barbacoa bowl                             663.11\n",
            "bottled water                             638.68\n",
            "carnitas burrito                          616.33\n",
            "canned soft drink                         590.00\n",
            "chips                                     573.89\n",
            "steak soft tacos                          554.55\n",
            "chicken crispy tacos                      524.11\n",
            "steak salad bowl                          391.15\n",
            "carnitas soft tacos                       375.94\n",
            "steak crispy tacos                        375.32\n",
            "6 pack soft drink                         369.93\n",
            "side of chips                             290.68\n",
            "barbacoa soft tacos                       250.46\n",
            "canned soda                               189.66\n",
            "veggie salad bowl                         182.50\n",
            "chips and tomatillo red chili salsa       153.40\n",
            "chips and tomatillo green chili salsa     144.55\n",
            "barbacoa crispy tacos                     138.71\n",
            "nantucket nectar                          111.87\n",
            "barbacoa salad bowl                        97.01\n",
            "carnitas crispy tacos                      95.94\n",
            "veggie soft tacos                          90.94\n",
            "chips and tomatillo-red chili salsa        90.82\n",
            "chips and tomatillo-green chili salsa      88.43\n",
            "chicken salad                              81.09\n",
            "bowl                                       74.00\n",
            "chips and roasted chili corn salsa         73.75\n",
            "carnitas salad bowl                        66.34\n",
            "izze                                       64.41\n",
            "veggie salad                               50.94\n",
            "burrito                                    44.40\n",
            "chips and roasted chili-corn salsa         43.02\n",
            "steak salad                                35.66\n",
            "crispy tacos                               14.80\n",
            "salad                                      14.80\n",
            "carnitas salad                              8.99\n",
            "veggie crispy tacos                         8.49\n",
            "chips and mild fresh tomato salsa           3.00\n",
            "dtype: float64\n"
          ]
        }
      ]
    },
    {
      "cell_type": "markdown",
      "source": [
        "### Distribution of Orders by Price"
      ],
      "metadata": {
        "id": "sySWq2w4knri"
      }
    },
    {
      "cell_type": "code",
      "source": [
        "import matplotlib.pyplot as plt\n",
        "\n",
        "order_prices = chipotle_df.groupby('order_id').apply(lambda x: (x['quantity'] * x['item_price']).sum())\n",
        "plt.hist(order_prices, bins=30)\n",
        "plt.title('Distribution of Order Prices')\n",
        "plt.xlabel('Order Price')\n",
        "plt.ylabel('Frequency')\n",
        "plt.show()\n"
      ],
      "metadata": {
        "colab": {
          "base_uri": "https://localhost:8080/",
          "height": 472
        },
        "id": "GIed5L1BkohS",
        "outputId": "9b6c9e55-4e52-4a32-fe81-3817094fea79"
      },
      "execution_count": 26,
      "outputs": [
        {
          "output_type": "display_data",
          "data": {
            "text/plain": [
              "<Figure size 640x480 with 1 Axes>"
            ],
            "image/png": "[encoded data removed]"
          },
          "metadata": {}
        }
      ]
    },
    {
      "cell_type": "markdown",
      "source": [
        "### Analyzing the Effect of choice_description on item_price"
      ],
      "metadata": {
        "id": "6I9JkfC7kz9q"
      }
    },
    {
      "cell_type": "code",
      "source": [
        "avg_price_by_choice = chipotle_df.groupby('choice_description')['item_price'].mean().sort_values(ascending=False)\n",
        "print(avg_price_by_choice)\n"
      ],
      "metadata": {
        "colab": {
          "base_uri": "https://localhost:8080/"
        },
        "id": "cuXiy63Zk0VS",
        "outputId": "e87c8b77-ff17-488a-dc4b-53a0002bb435"
      },
      "execution_count": 27,
      "outputs": [
        {
          "output_type": "stream",
          "name": "stdout",
          "text": [
            "choice_description\n",
            "[[Fresh Tomato Salsa (Mild), Tomatillo-Green Chili Salsa (Medium), Roasted Chili Corn Salsa (Medium)], [Black Beans, Rice, Fajita Veggies, Cheese, Guacamole, Lettuce]]      32.940000\n",
            "[Tomatillo Green Chili (Medium), [Rice, Black Beans, Sour Cream, Cheese]]                                                                                                    26.070000\n",
            "[[Tomatillo-Green Chili Salsa (Medium), Roasted Chili Corn Salsa (Medium), Tomatillo-Red Chili Salsa (Hot)], [Black Beans, Rice, Cheese, Sour Cream, Guacamole, Lettuce]]    22.960000\n",
            "[Tomatillo Green Chili Salsa, [Black Beans, Sour Cream, Cheese, Lettuce, Guacamole]]                                                                                         22.500000\n",
            "[Fresh Tomato Salsa, [Rice, Fajita Vegetables, Black Beans, Sour Cream, Cheese, Lettuce, Guacamole]]                                                                         22.500000\n",
            "                                                                                                                                                                               ...    \n",
            "[Lemonade]                                                                                                                                                                    1.709032\n",
            "[Coca Cola]                                                                                                                                                                   1.341538\n",
            "[Mountain Dew]                                                                                                                                                                1.323571\n",
            "[Dr. Pepper]                                                                                                                                                                  1.282353\n",
            "[Diet Dr. Pepper]                                                                                                                                                             1.173846\n",
            "Name: item_price, Length: 1043, dtype: float64\n"
          ]
        }
      ]
    }
  ]
}