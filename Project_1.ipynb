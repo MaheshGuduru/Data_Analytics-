{
  "nbformat": 4,
  "nbformat_minor": 0,
  "metadata": {
    "colab": {
      "provenance": []
    },
    "kernelspec": {
      "name": "python3",
      "display_name": "Python 3"
    },
    "language_info": {
      "name": "python"
    }
  },
  "cells": [
    {
      "cell_type": "code",
      "execution_count": 1,
      "metadata": {
        "id": "SueJq1ubbqUJ"
      },
      "outputs": [],
      "source": [
        "import pandas as pd\n",
        "import numpy as np"
      ]
    },
    {
      "cell_type": "code",
      "source": [
        "# Loading the dataset (We can do like the sir shown but tried another way nothing but same just given variable)\n",
        "file_path = 'Data-cleaning-for-beginners-using-pandas.csv'\n",
        "df = pd.read_csv(file_path)"
      ],
      "metadata": {
        "id": "-h_tFo8BdkQz"
      },
      "execution_count": 21,
      "outputs": []
    },
    {
      "cell_type": "code",
      "source": [
        "# Checking for null values\n",
        "print('Total sum of Null values in data: ', df.isnull().sum().sum())\n",
        "print()\n",
        "print(df.isnull().sum())"
      ],
      "metadata": {
        "colab": {
          "base_uri": "https://localhost:8080/"
        },
        "id": "-TauPdcfdkMR",
        "outputId": "908fdf45-77a4-4584-9857-0fb21bb870a5"
      },
      "execution_count": 5,
      "outputs": [
        {
          "output_type": "stream",
          "name": "stdout",
          "text": [
            "Total sum of Null values in data:  8\n",
            "\n",
            "Index          0\n",
            "Age            7\n",
            "Salary         0\n",
            "Rating         1\n",
            "Location       0\n",
            "Established    0\n",
            "Easy Apply     0\n",
            "dtype: int64\n"
          ]
        }
      ]
    },
    {
      "cell_type": "code",
      "source": [
        "# Fixing column names\n",
        "df.columns = df.columns.str.lower().str.replace(\" \", \"_\")\n",
        "print(df.columns)"
      ],
      "metadata": {
        "colab": {
          "base_uri": "https://localhost:8080/"
        },
        "id": "_xXjIeVWdkJN",
        "outputId": "70e28c01-ae92-4a9f-cd06-0623a6c932ff"
      },
      "execution_count": 6,
      "outputs": [
        {
          "output_type": "stream",
          "name": "stdout",
          "text": [
            "Index(['index', 'age', 'salary', 'rating', 'location', 'established',\n",
            "       'easy_apply'],\n",
            "      dtype='object')\n"
          ]
        }
      ]
    },
    {
      "cell_type": "code",
      "source": [
        "# Handling missing values in 'age'\n",
        "print(df.age.mean())\n",
        "df['age'] = df.age.fillna(df.age.mean())\n",
        "df['age'] = df.age.round(decimals=1)\n",
        "print(df.age.isnull().sum())"
      ],
      "metadata": {
        "colab": {
          "base_uri": "https://localhost:8080/"
        },
        "id": "ErYBg6QGdkAz",
        "outputId": "b36a8f01-893f-433d-d37a-53c7fa3dd1d9"
      },
      "execution_count": 7,
      "outputs": [
        {
          "output_type": "stream",
          "name": "stdout",
          "text": [
            "39.04545454545455\n",
            "0\n"
          ]
        }
      ]
    },
    {
      "cell_type": "code",
      "source": [
        "# Cleaning the 'established' column\n",
        "df['established'] = df['established'].replace(-1, np.nan)\n",
        "df['established'].fillna('Unknown', inplace=True)"
      ],
      "metadata": {
        "id": "emIwJ1STdj9p"
      },
      "execution_count": 8,
      "outputs": []
    },
    {
      "cell_type": "code",
      "source": [
        "# Cleaning the 'location' column and splitting the city from the city short name\n",
        "df['location'] = df['location'].str.replace(\"Australia Aus\", \"Australia, Aus\")\n",
        "df['location_city'] = df['location'].str.split(\",\", expand=True).get(0)\n",
        "df['city_sign'] = df['location'].str.split(\",\", expand=True).get(1)\n",
        "df.drop('location', inplace=True, axis=1)"
      ],
      "metadata": {
        "id": "nPxwQ4OFdj6J"
      },
      "execution_count": 9,
      "outputs": []
    },
    {
      "cell_type": "code",
      "source": [
        "# Cleaning the 'rating' column and replacing special characters with NaN values\n",
        "df['rating'] = df['rating'].replace(-1, np.nan)"
      ],
      "metadata": {
        "id": "UP4nNuVJd4ls"
      },
      "execution_count": 10,
      "outputs": []
    },
    {
      "cell_type": "code",
      "source": [
        "# Replacing NaN values in 'rating' with the mean and rounding\n",
        "df['rating'] = df['rating'].fillna(df['rating'].mean()).round(decimals=1)"
      ],
      "metadata": {
        "id": "mv2ENgoHdj2m"
      },
      "execution_count": 11,
      "outputs": []
    },
    {
      "cell_type": "code",
      "source": [
        "# Cleaning the 'easy_apply' column\n",
        "df['easy_apply'] = df['easy_apply'].replace(\"-1\", \"False\")\n",
        "df['easy_apply'] = df['easy_apply'].replace(\"True\", True).replace(\"False\", False)"
      ],
      "metadata": {
        "id": "yfXeT6YNdjzP"
      },
      "execution_count": 12,
      "outputs": []
    },
    {
      "cell_type": "code",
      "source": [
        "# Cleaning the 'salary' column\n",
        "df['salary'] = df['salary'].apply(lambda x: x.replace(\"$\", '').replace(\"k\", '000').replace(\"-\", \" to \"))\n",
        "print(df['salary'].iloc[0])"
      ],
      "metadata": {
        "colab": {
          "base_uri": "https://localhost:8080/"
        },
        "id": "37Dmyowidjv2",
        "outputId": "37dd6e3f-d2f9-4e2f-96d2-fe1d32bef4b1"
      },
      "execution_count": 13,
      "outputs": [
        {
          "output_type": "stream",
          "name": "stdout",
          "text": [
            "44000 to 99000\n"
          ]
        }
      ]
    },
    {
      "cell_type": "code",
      "source": [
        "# Identifying and handling outliers in 'age' and 'rating'\n",
        "for column in ['age', 'rating']:\n",
        "    q1 = df[column].quantile(0.25)\n",
        "    q3 = df[column].quantile(0.75)\n",
        "    iqr = q3 - q1\n",
        "    lower_bound = q1 - 1.5 * iqr\n",
        "    upper_bound = q3 + 1.5 * iqr\n",
        "    df = df[(df[column] >= lower_bound) & (df[column] <= upper_bound)]"
      ],
      "metadata": {
        "id": "8Qyp8XRxdjsW"
      },
      "execution_count": 14,
      "outputs": []
    },
    {
      "cell_type": "code",
      "source": [
        "# Normalizing 'rating' column to a consistent scale (0-10)\n",
        "df['rating'] = df['rating'] / df['rating'].max() * 10"
      ],
      "metadata": {
        "id": "NKYSMuqgdjo1"
      },
      "execution_count": 15,
      "outputs": []
    },
    {
      "cell_type": "code",
      "source": [
        "# Ensuring 'age' is within a reasonable range\n",
        "df['age'] = df['age'].apply(lambda x: x if 18 <= x <= 65 else np.nan)\n",
        "df['age'] = df['age'].fillna(df['age'].mean()).round(decimals=1)"
      ],
      "metadata": {
        "id": "i9hlv6rMdjlV"
      },
      "execution_count": 16,
      "outputs": []
    },
    {
      "cell_type": "code",
      "source": [
        "# Ensuring 'established' is a valid year or 'Unknown'\n",
        "current_year = pd.to_datetime('today').year\n",
        "df['established'] = df['established'].apply(lambda x: x if x == 'Unknown' or (pd.notnull(x) and x <= current_year) else 'Unknown')\n"
      ],
      "metadata": {
        "id": "acXPfwuTdjhl"
      },
      "execution_count": 17,
      "outputs": []
    },
    {
      "cell_type": "code",
      "source": [
        "# Converting 'easy_apply' to boolean\n",
        "df['easy_apply'] = df['easy_apply'].astype(bool)"
      ],
      "metadata": {
        "id": "mWCvuYgadjeX"
      },
      "execution_count": 18,
      "outputs": []
    },
    {
      "cell_type": "code",
      "source": [
        "# Cleaning the 'location_city' and 'city_sign' columns\n",
        "df['location_city'] = df['location_city'].str.strip()\n",
        "df['city_sign'] = df['city_sign'].str.strip()"
      ],
      "metadata": {
        "id": "WVxabVQ4djQA"
      },
      "execution_count": 19,
      "outputs": []
    },
    {
      "cell_type": "code",
      "source": [
        "# Final cleaned dataset\n",
        "print(df)"
      ],
      "metadata": {
        "colab": {
          "base_uri": "https://localhost:8080/"
        },
        "id": "hnBr0sDldjL-",
        "outputId": "06fbb352-0d67-43fc-e907-81adb7266e6f"
      },
      "execution_count": 20,
      "outputs": [
        {
          "output_type": "stream",
          "name": "stdout",
          "text": [
            "    index   age           salary     rating established  easy_apply  \\\n",
            "0       0  44.0   44000 to 99000   6.923077      1999.0        True   \n",
            "2       2  39.0   77000 to 89000   5.512821     Unknown       False   \n",
            "4       4  25.0   44000 to 99000   8.205128      2002.0       False   \n",
            "5       5  44.0   77000 to 89000   1.794872      1999.0        True   \n",
            "7       7  44.0   44000 to 99000   5.512821     Unknown       False   \n",
            "8       8  35.0   44000 to 99000   6.923077     Unknown       False   \n",
            "9       9  22.0   44000 to 99000   9.871795     Unknown        True   \n",
            "10     10  55.0   10000 to 49000   6.923077      2008.0        True   \n",
            "11     11  44.0   10000 to 49000   8.589744      2009.0       False   \n",
            "13     13  25.0   44000 to 99000   5.512821      2019.0        True   \n",
            "15     15  44.0  88000 to 101000   3.846154      1999.0       False   \n",
            "16     16  19.0   19000 to 40000   5.769231      1984.0       False   \n",
            "17     17  39.0   44000 to 99000   6.794872      1943.0        True   \n",
            "18     18  35.0   44000 to 99000   8.589744      1954.0        True   \n",
            "19     19  32.0   44000 to 99000   4.230769      1955.0        True   \n",
            "20     20  39.0   44000 to 99000   7.307692      1944.0        True   \n",
            "21     21  35.0   44000 to 99000   6.410256      1946.0       False   \n",
            "22     22  19.0   55000 to 66000  10.000000      1988.0        True   \n",
            "23     23  39.0   44000 to 99000   3.076923      1999.0        True   \n",
            "26     26  39.0   55000 to 66000   5.512821      1934.0        True   \n",
            "27     27  52.0   44000 to 99000   6.923077      1935.0       False   \n",
            "28     28  39.0   39000 to 88000   4.358974      1932.0       False   \n",
            "\n",
            "   location_city city_sign  \n",
            "0          India        In  \n",
            "2       New York        Ny  \n",
            "4      Australia       Aus  \n",
            "5          India        In  \n",
            "7      Australia       Aus  \n",
            "8       New York        Ny  \n",
            "9          India        In  \n",
            "10         India        In  \n",
            "11         India        In  \n",
            "13     Australia       Aus  \n",
            "15     Australia       Aus  \n",
            "16         India        In  \n",
            "17      New York        Ny  \n",
            "18      New York        Ny  \n",
            "19      New York        Ny  \n",
            "20      New York        Ny  \n",
            "21      New York        Ny  \n",
            "22      New York        Ny  \n",
            "23      New York        Ny  \n",
            "26         India        In  \n",
            "27         India        In  \n",
            "28     Australia       Aus  \n"
          ]
        }
      ]
    },
    {
      "cell_type": "markdown",
      "source": [
        " ## Project 2 in new file sir"
      ],
      "metadata": {
        "id": "qzMoBradgFtr"
      }
    }
  ]
}